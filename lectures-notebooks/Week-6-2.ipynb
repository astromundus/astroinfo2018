{
 "cells": [
  {
   "cell_type": "markdown",
   "metadata": {
    "slideshow": {
     "slide_type": "slide"
    }
   },
   "source": [
    "\n",
    "# ASTROINFORMATICS\n",
    "\n",
    "https://github.com/astromundus/astroinfo2018\n",
    "# Week 6:  Time Series Analysis - Stochastic Variability\n",
    "\n",
    "\n",
    " "
   ]
  },
  {
   "cell_type": "markdown",
   "metadata": {},
   "source": [
    "##### Resources for this notebook include:\n",
    "\n",
    "- [Textbook Chapter 10.](chap10.pdf) \n",
    "- [Gordon Richards notebook](https://github.com/gtrichards/PHYS_T480)\n",
    "\n",
    "\n",
    "following Ž. Ivezić (2018) and M. Jurić (2017), Connolly\n",
    "\n"
   ]
  },
  {
   "cell_type": "markdown",
   "metadata": {
    "slideshow": {
     "slide_type": "slide"
    }
   },
   "source": [
    "Let's go back to Fourier analysis. We said that the power spectral density (PSD)\n",
    "for a sinusoidal variation is delta function at that frequency (i.e. the PSD is \n",
    "the amplitude of the Fourier transform as a function of frequency). \n",
    "\n",
    "Here is a slightly more complex example: a chirp, where the frequency of variation\n",
    "is steadily increasing with time. \n",
    "\n",
    "<img src=\"figures/PSDchirp.png\" style=\"float: left; width: 90%; margin-right: 1%;\"> \n",
    " "
   ]
  },
  {
   "cell_type": "markdown",
   "metadata": {
    "slideshow": {
     "slide_type": "slide"
    }
   },
   "source": [
    "We can compute power spectral density (PSD) for any time series. For illustration,\n",
    "here are examples of time series where underlying PSD is a power law. \n",
    "The $PSD = 1/f^2$ case is called \"red noise\" and the $PSD = 1/f$ case is called \n",
    "\"pink noise\" (because a flat PSD is called white noise). \n",
    "\n",
    "These are famous examples of stochastic processes. The \"red noise\" process is \n",
    "also known as Brownian motion, and as random walk (or “drunkard’s walk”). The\n",
    "\"white noise\", or noise of uncorrelated random variables with zero mean and \n",
    "constant variance, is also known as \"thermal\" or Johnson's noise. \n",
    "\n",
    "<img src=\"figures/PSDcolorednoise.png\" style=\"float: left; width: 90%; margin-right: 1%;\"> \n",
    " "
   ]
  },
  {
   "cell_type": "markdown",
   "metadata": {
    "slideshow": {
     "slide_type": "slide"
    }
   },
   "source": [
    "\n",
    " \n",
    "A few things to notice:\n",
    "* The overall power (the amplitude) of the signal is determined by the power at low frequencies in the PSD. Those are set to the same value and thus the overall amplitude of the signal is similar.\n",
    "* Because the power at high frequency is larger for $1/f$, that light curve looks noisier.\n",
    "* We can even *hear* the difference: [https://www.youtube.com/watch?v=3vEDZ-_iLNU)](https://www.youtube.com/watch?v=3vEDZ-_iLNU)"
   ]
  },
  {
   "cell_type": "markdown",
   "metadata": {},
   "source": [
    "## Different stochastic processes\n",
    "\n",
    "* A stochastic process with $1/f^2$ spectrum is known as random walk (if discrete) or Brownian motion (or, more accurately, Wiener process) if continuous. These physically occur when the value being observed is subjected to a series of independent changes of similar size. It's also sometimes called as \"red noise\". Quasar variability exhibits $1/f^2$ properties at high frequencies (that is, short time scales, below a year or so). \n",
    "* A stochastic process with $1/f$ spectrum are sometimes called \"long-term memory processes\" (also sometimes know as \"pink noise\"). They have equal energy at all octaves (or over any other logarithmic frequency interval). This type of process has infinite variance and an undefined mean (remember the Lorentzian? this is similar.). \n",
    "* A process with a constant PSD is frequently referred to as \"white nose\" -- it has equal intensity at all frequencies. This is a process with no memory -- each measurement is independent of all others. "
   ]
  },
  {
   "cell_type": "code",
   "execution_count": null,
   "metadata": {},
   "outputs": [],
   "source": []
  },
  {
   "cell_type": "markdown",
   "metadata": {
    "slideshow": {
     "slide_type": "slide"
    }
   },
   "source": [
    "Take a (stochastically varying) quasar which has both *line* and *continuum* emission and where the line emission is stimulated by the continuum.\n",
    "\n",
    "Since there is a physical separation between the regions that produce each type of emission, we get a delay between the light curves as can be seen here:\n",
    "\n",
    "![Peterson 2001, RM](https://ned.ipac.caltech.edu/level5/Sept01/Peterson2/Figures/figure24.jpg)"
   ]
  },
  {
   "cell_type": "markdown",
   "metadata": {
    "slideshow": {
     "slide_type": "slide"
    }
   },
   "source": [
    "## Correlation function\n",
    "\n",
    "To understand stochastic processes, let's first talk about [correlation functions](https://en.wikipedia.org/wiki/Correlation_function).  A correlation function ($\\S$ 6.5) **gives us information about the time delay between two processes**.\n",
    "\n",
    "The correlation function between $f(t)$, and $g(t)$ is defined as\n",
    "$${\\rm CF}(\\Delta t) = \\frac{\\lim_{T\\rightarrow \\infty}\\frac{1}{T}\\int_T f(t)g(t+\\Delta t)dt }{\\sigma_f \\sigma_g}$$\n",
    "\n",
    "If one time series is derived from another simply by shifting the time axis by $t_{\\rm lag}$, then their correlation function will have a peak at $\\Delta t = t_{\\rm lag}$."
   ]
  },
  {
   "cell_type": "markdown",
   "metadata": {
    "slideshow": {
     "slide_type": "slide"
    }
   },
   "source": [
    "Computing the correlation function is basically the mathematical processes of sliding the two curves over each other and computing the degree of similarity for each step in time.  The peak of the correlation function reveals the time delay between the processes.  Below we have the correlation function of the line and continuum emission from a quasar, which reveals a $\\sim$ 15 day delay between the two.\n",
    "\n",
    "![Peterson 2001, RM](https://ned.ipac.caltech.edu/level5/Sept01/Peterson2/Figures/figure25.jpg)"
   ]
  },
  {
   "cell_type": "markdown",
   "metadata": {
    "slideshow": {
     "slide_type": "slide"
    }
   },
   "source": [
    "Note: this is the temporal correlation function, but more generally the we can compute the CF over any parameter of interest (typically it's space or time).\n",
    "\n",
    "Here's an example of angular galaxy correlation function:\n",
    "![Connolly '02](figures/angular-cf-Connolly02.jpg)\n",
    "(from Connolly et al., 2002, *The Angular Correlation Function of Galaxies from Early Sloan Digital Sky Survey Data*)."
   ]
  },
  {
   "cell_type": "markdown",
   "metadata": {},
   "source": [
    "## Auto-correlation Function\n",
    "\n",
    "In an **autocorrelation function (ACF)**, $f(t)= g(t) \\equiv y(t)$ and instead  we are revealing information about variability timescales present in a process.\n",
    "\n",
    "$${\\rm ACF}(\\Delta t) = \\frac{\\lim_{T\\rightarrow \\infty}\\frac{1}{T}\\int_T y(t)y(t+\\Delta t)dt }{\\sigma_y^2}$$\n",
    " "
   ]
  },
  {
   "cell_type": "markdown",
   "metadata": {},
   "source": [
    "## What can the ACF tell us?\n",
    "\n",
    "If the values of $y$ are uncorrelated, then ACF$(\\Delta t)=0$ (except for ACF$(0)=1$).\n",
    "\n",
    "For processes that \"retain memory\" of previous states only for some characteristic time $\\tau$, the ACF will vanish for $\\Delta t \\gg \\tau$.\n",
    "\n",
    "Turning that around, the predictability of future behavior of future behavior of such a process is limited to times up to $\\sim \\tau$; you have to \"let the process run\" to know how it will behave at times longer than that.\n"
   ]
  },
  {
   "cell_type": "markdown",
   "metadata": {
    "slideshow": {
     "slide_type": "slide"
    }
   },
   "source": [
    "## Power Spectral Density\n",
    "\n",
    "The Fourier Transform of an ACF is the [Power Spectral Density (PSD)](https://en.wikipedia.org/wiki/Spectral_density).  So, the PSD is an analysis in frequency space and the ACF is in time space (the Wiener-Khinchin theorem describes the \n",
    "fact that the ACF and PSD are a Fourier pair). \n",
    "\n",
    "For example, for a sinusoidal function in time space, the ACF will have the same period, $T$. Conversly, the PSD in frequency space will be a $\\delta$ function centered on $\\omega = 1/2\\pi T$."
   ]
  },
  {
   "cell_type": "markdown",
   "metadata": {},
   "source": [
    "## The Structure Function\n",
    "\n",
    "The *structure function* is another quantity that is frequently used in astronomy and is related to the ACF:\n",
    "\n",
    "$${\\rm SF}(\\Delta t) = {\\rm SF}_\\infty[1 - {\\rm ACF}(\\Delta t)]^{1/2},$$\n",
    "\n",
    "where ${\\rm SF}_\\infty$ is the standard deviation of the time series as evaluated on timescales much larger than any charateristic timescale."
   ]
  },
  {
   "cell_type": "markdown",
   "metadata": {},
   "source": [
    "### Why Structure Function?\n",
    "\n",
    "The structure function is interesting because it's equal to the standard deviation of the distribution of the differences of $y(t_2) - y(t_1)$ evaluated at many different $t_1$ and $t_2$ (i.e., with a time lag of $\\Delta t = t_2 - t_1$), and divided by $\\sqrt 2$.\n",
    "\n",
    "This is of practical use: if I have a series of observations $y_i$ (taken at random times $t_i$) it's relatively straighforward to compute the structure function."
   ]
  },
  {
   "cell_type": "markdown",
   "metadata": {
    "slideshow": {
     "slide_type": "slide"
    }
   },
   "source": [
    "###  Structure Function for Dampled Random Walk\n",
    "\n",
    "<img src=\"figures/drwMacLeod.png\" alt=\"Drawing\" style=\"width: 500px;\"/>\n"
   ]
  },
  {
   "cell_type": "markdown",
   "metadata": {
    "slideshow": {
     "slide_type": "slide"
    }
   },
   "source": [
    "### Connection to the PSD\n",
    "\n",
    "If we find that ${\\rm SF} \\propto t^{\\alpha}$, then one can show that the ${\\rm PSD} \\propto \\frac{1}{f^{1+2\\alpha}}$.\n",
    "\n",
    "So by estimating the SF, we can learn something about the PSD of the physical (stochastic) process that's generating the variability."
   ]
  },
  {
   "cell_type": "markdown",
   "metadata": {
    "slideshow": {
     "slide_type": "slide"
    }
   },
   "source": [
    "### Damped Random Walk\n",
    "\n",
    "DRW is described by a stochastic differential equation which includes a damping term that pushes $y(t)$ back towards the mean, hence the name **damped random walk**.   \n",
    "\n",
    "The ACF for a DRW is given by\n",
    "$$ ACF(t) = \\exp(-t/\\tau),$$\n",
    "where $\\tau$ is the characteristic timescale (i.e., the damping timescale).\n",
    "\n",
    "The DRW structure function can be written as\n",
    "$$ SF(t) = SF_{\\infty}[1-\\exp(-t/\\tau)]^{1/2}.$$\n",
    "\n",
    "The PSD is then\n",
    "$$ PSD(f) = \\frac{\\tau^2 SF_{\\infty}^2}{1+(2\\pi f \\tau)^2},$$\n",
    "which means that a DRW is a $1/f^2$ process at high frequency.  The *damped* part comes from the flat PSD at low frequency.\n",
    "\n",
    "The SF example above was an example of a DRW: the light curve is strongly correlated a short timescales, but uncorrelated at long timescales. This is observed in optical variability of quasar continuum light; in fact, it works so well that one can use this model to distinguish quasars from stars, based solely on the variability they exhibit."
   ]
  },
  {
   "cell_type": "markdown",
   "metadata": {
    "slideshow": {
     "slide_type": "slide"
    }
   },
   "source": [
    "## Examples of Stochastic Processes\n",
    "\n",
    "So an analysis of a stochastic system can be done with either the ACF, SF, or PSD.\n",
    "\n",
    "AstroML has [time series](http://www.astroml.org/modules/classes.html#module-astroML.time_series) and [Fourier](http://www.astroml.org/modules/classes.html#module-astroML.fourier) tools for generating light curves drawn from a power law in frequency space.  Note that these tools define $\\beta = 1+2\\alpha$  ($\\beta=2$ for \"red noise\", or random\n",
    "walk). \n",
    "\n",
    "Let's play with the code below to make a plot of counts vs. time and of the PSD vs. frequency for both a $1/f$ and a $1/f^2$ process.   "
   ]
  },
  {
   "cell_type": "code",
   "execution_count": 1,
   "metadata": {
    "slideshow": {
     "slide_type": "slide"
    }
   },
   "outputs": [
    {
     "data": {
      "text/plain": [
       "<Figure size 800x400 with 2 Axes>"
      ]
     },
     "metadata": {},
     "output_type": "display_data"
    }
   ],
   "source": [
    "import numpy as np\n",
    "from matplotlib import pyplot as plt\n",
    "from astroML.time_series import generate_power_law\n",
    "from astroML.fourier import PSD_continuous\n",
    "\n",
    "N = 2014\n",
    "dt = 0.01\n",
    "beta = 2 ## Change this from 1 to 2 (or higher, or lower)\n",
    "\n",
    "t = dt * np.arange(N)\n",
    "y = generate_power_law(N, dt, beta) ## Complete\n",
    "f, PSD = PSD_continuous(t, y) ## Complete\n",
    "    \n",
    "fig = plt.figure(figsize=(8, 4))\n",
    "ax1 = fig.add_subplot(121)\n",
    "ax1.plot(t, y, '-k')\n",
    "ax1.set_xlim(0, 10)\n",
    "ax1.set_xlabel(r'$t$')\n",
    "\n",
    "ax2 = fig.add_subplot(122, xscale='log', yscale='log')\n",
    "ax2.plot(f, PSD, '-k')   \n",
    "ax2.set_xlim(1E-1, 60)\n",
    "ax2.set_ylim(1E-11, 1E-3)\n",
    "ax2.set_xlabel(r'$f$')\n",
    "\n",
    "plt.show()"
   ]
  },
  {
   "cell_type": "markdown",
   "metadata": {},
   "source": [
    "### ACF for Unevenly Sampled Data\n",
    "\n",
    "It's relatively strightforward to show that for evenly sampled discrete data, the autocorrelation function is equal to:\n",
    "\n",
    "$$ ACF(j) = \\frac{\\sum_{i=1}^{N-j} \\left[(y_i - \\bar{y})(y_{i+j} - \\bar{y})\\right]}{\\sum_{i=1}^{N} \\left(y_i - \\bar{y}\\right)^2} $$\n",
    "\n",
    "Life is generally not that kind; the data we collect are typically unevenly sampled, requiring more sophisticated estimators."
   ]
  },
  {
   "cell_type": "markdown",
   "metadata": {
    "slideshow": {
     "slide_type": "slide"
    }
   },
   "source": [
    "### AstroML tools for Generation and Analysis of Stochastic Data\n",
    "\n",
    "astroML also has tools for computing the ACF of unevenly sampled data using two different (Scargle) and (Edelson & Krolik) methods: [http://www.astroml.org/modules/classes.html#module-astroML.time_series](http://www.astroml.org/modules/classes.html#module-astroML.time_series). This is described in more detail in $\\S$ 10.5.2 in the textbook.\n",
    "\n",
    "One of the tools is for generating a **damped random walk (DRW)**.  Above we learned that a random walk had a $1/f^2$ PSD.  A *damped* random walk is a process \"remembers\" its history only for a characteristic time, $\\tau$. The ACF vanishes for $\\Delta t \\gg \\tau$."
   ]
  },
  {
   "cell_type": "code",
   "execution_count": 2,
   "metadata": {
    "slideshow": {
     "slide_type": "slide"
    }
   },
   "outputs": [],
   "source": [
    "# Syntax for EK and Scargle ACF computation\n",
    "import numpy as np\n",
    "from astroML.time_series import generate_damped_RW\n",
    "from astroML.time_series import ACF_scargle, ACF_EK\n",
    "\n",
    "t = np.arange(0,1000)\n",
    "y = generate_damped_RW(t, tau=300)\n",
    "dy = 0.1\n",
    "y = np.random.normal(y,dy)\n",
    "\n",
    "ACF_scargle, bins_scargle = ACF_scargle(t,y,dy)\n",
    "ACF_EK, ACF_err_EK, bins_EK = ACF_EK(t,y,dy)"
   ]
  },
  {
   "cell_type": "markdown",
   "metadata": {
    "slideshow": {
     "slide_type": "slide"
    }
   },
   "source": [
    "Figure 10.30 below gives an example of an ACF for a DRW, which mimics the variability that we might see from a quasar.  (Note that the Scargle method doesn't seem to be working.)"
   ]
  },
  {
   "cell_type": "code",
   "execution_count": 3,
   "metadata": {
    "slideshow": {
     "slide_type": "slide"
    }
   },
   "outputs": [
    {
     "data": {
      "image/png": "[encoded data removed]",
      "text/plain": [
       "<Figure size 576x576 with 2 Axes>"
      ]
     },
     "metadata": {
      "needs_background": "light"
     },
     "output_type": "display_data"
    }
   ],
   "source": [
    "# Ivezic, Figure 10.30\n",
    "# Author: Jake VanderPlas\n",
    "# License: BSD\n",
    "#   The figure produced by this code is published in the textbook\n",
    "#   \"Statistics, Data Mining, and Machine Learning in Astronomy\" (2013)\n",
    "#   For more information, see http://astroML.github.com\n",
    "#   To report a bug or issue, use the following forum:\n",
    "#    https://groups.google.com/forum/#!forum/astroml-general\n",
    "import numpy as np\n",
    "from matplotlib import pyplot as plt\n",
    "\n",
    "from astroML.time_series import lomb_scargle, generate_damped_RW\n",
    "from astroML.time_series import ACF_scargle, ACF_EK\n",
    "\n",
    "#------------------------------------------------------------\n",
    "# Generate time-series data:\n",
    "#  we'll do 1000 days worth of magnitudes\n",
    "\n",
    "t = np.arange(0, 1E3)\n",
    "z = 2.0\n",
    "tau = 300\n",
    "tau_obs = tau / (1. + z)\n",
    "\n",
    "np.random.seed(6)\n",
    "y = generate_damped_RW(t, tau=tau, z=z, xmean=20)\n",
    "\n",
    "# randomly sample 100 of these\n",
    "ind = np.arange(len(t))\n",
    "np.random.shuffle(ind)\n",
    "ind = ind[:100]\n",
    "ind.sort()\n",
    "t = t[ind]\n",
    "y = y[ind]\n",
    "\n",
    "# add errors\n",
    "dy = 0.1\n",
    "y_obs = np.random.normal(y, dy)\n",
    "\n",
    "#------------------------------------------------------------\n",
    "# compute ACF via scargle method\n",
    "C_S, t_S = ACF_scargle(t, y_obs, dy, n_omega=2 ** 12, omega_max=np.pi / 5.0)\n",
    "\n",
    "ind = (t_S >= 0) & (t_S <= 500)\n",
    "t_S = t_S[ind]\n",
    "C_S = C_S[ind]\n",
    "\n",
    "#------------------------------------------------------------\n",
    "# compute ACF via E-K method\n",
    "C_EK, C_EK_err, bins = ACF_EK(t, y_obs, dy, bins=np.linspace(0, 500, 51))\n",
    "t_EK = 0.5 * (bins[1:] + bins[:-1])\n",
    "\n",
    "#------------------------------------------------------------\n",
    "# Plot the results\n",
    "fig = plt.figure(figsize=(8, 8))\n",
    "\n",
    "# plot the input data\n",
    "ax = fig.add_subplot(211)\n",
    "ax.errorbar(t, y_obs, dy, fmt='.k', lw=1)\n",
    "ax.set_xlabel('t (days)')\n",
    "ax.set_ylabel('observed flux')\n",
    "\n",
    "# plot the ACF\n",
    "ax = fig.add_subplot(212)\n",
    "ax.plot(t_S, C_S, '-', c='gray', lw=1, label='Scargle')\n",
    "ax.errorbar(t_EK, C_EK, C_EK_err, fmt='.k', lw=1, label='Edelson-Krolik')\n",
    "ax.plot(t_S, np.exp(-abs(t_S) / tau_obs), '-k', label='True')\n",
    "ax.legend(loc=3)\n",
    "\n",
    "ax.plot(t_S, 0 * t_S, ':', lw=1, c='gray')\n",
    "\n",
    "ax.set_xlim(0, 500)\n",
    "ax.set_ylim(-1.0, 1.1)\n",
    "\n",
    "ax.set_xlabel('t (days)')\n",
    "ax.set_ylabel('ACF(t)')\n",
    "\n",
    "plt.show()"
   ]
  },
  {
   "cell_type": "markdown",
   "metadata": {
    "slideshow": {
     "slide_type": "slide"
    }
   },
   "source": [
    "## Understanding the Observed Behaviors: Autoregressive Models\n",
    "\n",
    "For processes like these that are not periodic, but that \"retain memory\" of previous states, we can use [autogressive models](https://en.wikipedia.org/wiki/Autoregressive_model).\n",
    "\n",
    "A random walk is an example of such a process; every new value is given by the preceeding value plus some noise:\n",
    "\n",
    "$$y_i = y_{i-1} + \\epsilon_i.$$\n",
    "\n",
    "If the coefficient of $y_{i-1}$ is $>1$ then it is known as a *geometric random walk*, which is typical of the stock market.  (So, when you interview for a quant position on Wall Street, you tell them that you are an expert in using autoregressive geometric random walks to model stochastic processes.)"
   ]
  },
  {
   "cell_type": "markdown",
   "metadata": {
    "slideshow": {
     "slide_type": "slide"
    }
   },
   "source": [
    "In the random walk case above, each new value depends only on the immediately preceeding value.  But we can generalize this to include any number (we'll denote it $k$) of previous values:\n",
    "\n",
    "$$y_i = \\sum_{j=1}^k a_j y_{i-j} + \\epsilon_i$$\n",
    "\n",
    "We refer to this as an [**autoregressive (AR)**](https://en.wikipedia.org/wiki/Autoregressive_model) process of order $k$: $AR(k)$.  For a random walk, we have $k=1$, and $a_1=1$.\n",
    "\n",
    "If the data are drawn from a \"stationary\" process (one where it doesn't matter what region of the light curve you sample [so long as it is representative]), the $a_j$ satisfy certain conditions.\n",
    "\n",
    "One thing that we might do then is ask whether a system is more consistent with $a_1=0$ or $a_1=1$ (noise vs. a random walk)."
   ]
  },
  {
   "cell_type": "markdown",
   "metadata": {
    "slideshow": {
     "slide_type": "slide"
    }
   },
   "source": [
    "Below are some example light curves for specific $AR(k)$ processes.  In the first example, $AR(0)$, the light curve is simply responding to noise fluctuations.  In the second example, $AR(1)$, the noise fluctuation responses are persisting for slightly longer as the next time step depends positively on the time before.  For the 3rd example, nearly the full effect of the noise spike from the previous time step is applied again, giving particularly long and high chains of peaks and valleys.  In the 4th example, $AR(2)$, we have long, but low chains of peaks and valleys as a spike persists for an extra time step.  Finally, in the 5th example, the response of a spike in the second time step has the opposite sign as for the first time step, and both have large coefficients, so the peaks and valleys are both quite high and quite narrowly separated.\n",
    "\n",
    "![AR Examples](https://upload.wikimedia.org/wikipedia/commons/thumb/c/ce/ArTimeSeries.svg/1000px-ArTimeSeries.svg.png)"
   ]
  },
  {
   "cell_type": "markdown",
   "metadata": {
    "slideshow": {
     "slide_type": "slide"
    }
   },
   "source": [
    "## Moving Average models\n",
    "\n",
    "A [**moving average (MA)**](https://en.wikipedia.org/wiki/Moving-average_model) process is similar in some ways to an AR process, but is different in other ways.  It is defined as\n",
    "\n",
    "$$y_i = \\epsilon_i + \\sum_{j=1}^qb_j\\epsilon_{i-j}.$$\n",
    "\n",
    "So, for example, an MA(q=1) process would look like\n",
    "$$y_i = \\epsilon_{i} + b_1\\epsilon_{i-1},$$\n",
    "\n",
    "whereas an AR(k=2) process would look like\n",
    "\n",
    "$$y_i = a_1y_{i-1} +  a_2y_{i-2} + \\epsilon_i$$\n",
    "\n",
    "Thus the $MA$ process is similar to an $AR$ process in that the next time step depends on the previous time step, but they are different in terms of how they respond to a *shock*.  In an $MA$ process a shock affects only the current value and $q$ values into the future.  In an $AR$ process a shock affects *all* future values.\n",
    "\n",
    "Below is some code and a plot that illustrates this."
   ]
  },
  {
   "cell_type": "code",
   "execution_count": 5,
   "metadata": {
    "slideshow": {
     "slide_type": "slide"
    }
   },
   "outputs": [
    {
     "data": {
      "image/png": "[encoded data removed]",
      "text/plain": [
       "<Figure size 432x432 with 1 Axes>"
      ]
     },
     "metadata": {
      "needs_background": "light"
     },
     "output_type": "display_data"
    }
   ],
   "source": [
    "%matplotlib inline\n",
    "import numpy as np\n",
    "from matplotlib import pyplot as plt\n",
    "from matplotlib.ticker import MultipleLocator\n",
    "\n",
    "N=10\n",
    "\n",
    "#epsilon = np.array([0,0,0,1,0,0,0,0,0,0,0,0])\n",
    "epsilon = np.zeros(N+2)\n",
    "epsilon[3] = 1\n",
    "yAR=np.zeros(N+2)\n",
    "yMA=np.zeros(N+2)\n",
    "yARMA=np.zeros(N+2)\n",
    "\n",
    "for i in np.arange(N)+2:\n",
    "    # Complete using the coefficients given in the legend text below\n",
    "    yAR[i] = 0.5*yAR[i-1] + 0.2*yAR[i-2] + epsilon[i]\n",
    "    yMA[i] = epsilon[i] + 0.5*epsilon[i-1] + 0.5*epsilon[i-2]\n",
    "    yARMA[i] = 0.5*yARMA[i-1] + 0.25*yARMA[i-2] + epsilon[i] + 0.5*epsilon[i-1]\n",
    "    #print i, yAR[i], yMA[i]\n",
    "\n",
    "fig = plt.figure(figsize=(6, 6))\n",
    "t = np.arange(len(yAR))\n",
    "plt.plot(t,yAR,label=\"AR(2), a_1=0.5, a_2=0.5\")\n",
    "plt.plot(t,yMA,label=\"MA(2), b_1=0.5, b_2=0.5\")\n",
    "plt.plot(t,yARMA,label=\"ARMA(2,1), a_1=0.5, a_2=0.25, b_1=0.5\",zorder=0)\n",
    "plt.xlabel(\"t\")\n",
    "plt.ylabel(\"y\")\n",
    "plt.legend(loc=\"upper right\",prop={'size':8})\n",
    "plt.ylim([0,1.1])\n",
    "ax = plt.axes()\n",
    "ax.xaxis.set_major_locator(plt.MultipleLocator(1.0))\n",
    "\n",
    "plt.show()"
   ]
  },
  {
   "cell_type": "markdown",
   "metadata": {
    "slideshow": {
     "slide_type": "slide"
    }
   },
   "source": [
    "Note that I also included an ARMA(2,1) model, which combines AR(2) and MA(1):\n",
    "$$y_i = a_1y_{i-1} +  a_2y_{i-2} + \\epsilon_i + b_1 \\epsilon_{i-1}.$$"
   ]
  },
  {
   "cell_type": "markdown",
   "metadata": {
    "slideshow": {
     "slide_type": "slide"
    }
   },
   "source": [
    "### CARMA Models\n",
    "\n",
    "$AR$ and $ARMA$ models assume evenly sampled time-series data.  However, we can extend this to unevenly sampled data with $CAR$ or $CARMA$ processes, where the $C$ stands for *continuous*.  \n",
    "\n",
    "A $CAR(1)$ process is described by a stochastic differential equation which includes a damping term that pushes $y(t)$ back towards the mean, so it is also a **damped random walk (DRW)**.  For evenly sampled data a CAR(1) process is the same as an AR(1) process with $a_1=\\exp(-1/\\tau)$.  That is, the next value is the previous value times the damping factor (plus noise).\n"
   ]
  },
  {
   "cell_type": "markdown",
   "metadata": {
    "slideshow": {
     "slide_type": "slide"
    }
   },
   "source": [
    "## Regression and Classification\n",
    "\n",
    "Regression and Classification for these stochastic models is just the same as before.   With our model and model parameters, we can predict future values via regression, or look for similarities/differences as a function of the model parameters via clustering (unsupervised) or classification (supervised).  Similarly, we can apply dimensionality reduction techniques to help visualize results from high-dimensional models.\n",
    "\n",
    "An important application of stochastic analysis is **Gaussian Process Regression**, which unfortunately we won't have time to cover. "
   ]
  },
  {
   "cell_type": "markdown",
   "metadata": {
    "slideshow": {
     "slide_type": "slide"
    }
   },
   "source": [
    "## The Big Picture\n",
    "\n",
    "Why are we doing all of this (ACF, PSD, SF, AR, MA, ARMA, CARMA...)?\n",
    "\n",
    "To **identify** and **measure** the key properties of stochastic processes, those that make them similar rather than different. We're trying to \"see beyond the noise\". This is what statistics such as ACF, PSD and SF provide us with.\n",
    "\n",
    "Once we've extracted such features (e.g., established that a phenomenon exhibits $\\sim 1/f^2$ noise), we can **model** it (e.g., as random walk or damped random walk). That is the first step in understanding of the physics behind the process (e.g., if the process exhibits memory over a certain timescale $\\tau$, we know it's likely occur in a causally connected region not larger than $c \\tau$).\n",
    "\n",
    "And finally, the **physical explanation** -- what causes the quasar to flicker, or a star to flare -- is then easier to deduce using the hints we obtain with the above."
   ]
  },
  {
   "cell_type": "markdown",
   "metadata": {
    "slideshow": {
     "slide_type": "slide"
    }
   },
   "source": [
    "## A few more Interesting Examples of Time Series Analysis\n",
    "\n",
    "* [Is Seattle Really Seeing an Uptick in Cycling?](http://jakevdp.github.io/blog/2014/06/10/is-seattle-really-seeing-an-uptick-in-cycling/)\n",
    "* [Understanding MA(1) processes](https://www.youtube.com/watch?v=lUhtcP2SUsg)\n",
    "* [Understanding AR(1) processes](https://www.youtube.com/watch?v=AN0a58F6cxA)\n",
    "* [Understanding ARMA(1,1)](https://www.youtube.com/watch?v=Pg0RnP1uLVc)"
   ]
  },
  {
   "cell_type": "code",
   "execution_count": null,
   "metadata": {},
   "outputs": [],
   "source": []
  }
 ],
 "metadata": {
  "anaconda-cloud": {},
  "celltoolbar": "Slideshow",
  "kernelspec": {
   "display_name": "Python 3",
   "language": "python",
   "name": "python3"
  },
  "language_info": {
   "codemirror_mode": {
    "name": "ipython",
    "version": 3
   },
   "file_extension": ".py",
   "mimetype": "text/x-python",
   "name": "python",
   "nbconvert_exporter": "python",
   "pygments_lexer": "ipython3",
   "version": "3.6.6"
  },
  "livereveal": {
   "scroll": "True",
   "theme": "serif"
  }
 },
 "nbformat": 4,
 "nbformat_minor": 2
}
