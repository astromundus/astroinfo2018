{
 "cells": [
  {
   "cell_type": "markdown",
   "metadata": {},
   "source": [
    "# Homework 8: Problems\n",
    "\n",
    "### ASTROINFORMATICS\n",
    "https://github.com/astromundus/astroinfo2018/blob/master/homework/HW8.ipynb\n",
    "\n",
    "\n",
    "\n",
    "## Problem 1:  Unsupervised classification using GMM\n",
    "\n",
    "Apply Gausian Mixture Model (GMM) to the 4-D data from the last week's Homework Problem: \n",
    "the g-i and u-g colors, and Amplitude and logP determined from light curves.\n",
    "You can use the astroML code from textbook figure 6.6 to search for clusters\n",
    "(hint: adapt the GMM code we used in notebook for Week 8 for asteroids).\n",
    "\n",
    "Assume that there are no more than 30 physical clusters.\n",
    "a) plot BIC (and AIC if you want) as a function of the assumed number of \n",
    "clusters; what is the optimal number of clusters?\n",
    "b) plot logP vs. g-i diagram and overplot ellipses (1.5 sigma level as in fig. 6.6) \n",
    "outlining each class for the best number of clusters.\n",
    "c) what fraction of sample belongs to the most populous cluster (hint: look at gmm_best.weights_ variable)\n",
    "\n",
    "\n"
   ]
  },
  {
   "cell_type": "markdown",
   "metadata": {},
   "source": [
    "<br>\n",
    "# Homework 8: Solutions"
   ]
  },
  {
   "cell_type": "markdown",
   "metadata": {},
   "source": [
    "### Some useful definitions and functions"
   ]
  },
  {
   "cell_type": "code",
   "execution_count": 15,
   "metadata": {
    "collapsed": true
   },
   "outputs": [],
   "source": [
    "%matplotlib inline\n",
    "import numpy as np\n",
    "from matplotlib import pyplot as plt\n",
    "from matplotlib.colors import LogNorm, Normalize\n",
    "from scipy.stats import norm\n",
    "from scipy.spatial import cKDTree\n",
    "from scipy.stats import gaussian_kde\n",
    "from sklearn.mixture import GaussianMixture as GMM\n",
    "from sklearn.neighbors import KernelDensity\n",
    "from astroML.datasets import fetch_LINEAR_geneva\n",
    "from astroML.datasets import fetch_great_wall\n",
    "from astroML.decorators import pickle_results\n",
    "from astroML.plotting.tools import draw_ellipse\n",
    "from astroML.plotting import setup_text_plots\n",
    "setup_text_plots(fontsize=8, usetex=True)"
   ]
  },
  {
   "cell_type": "markdown",
   "metadata": {},
   "source": [
    "## Problem : Gausian Mixture Model\n",
    "\n",
    "First obtain LINEAR data for 6,146 stars using astroML built-in function: "
   ]
  },
  {
   "cell_type": "code",
   "execution_count": 8,
   "metadata": {
    "collapsed": true
   },
   "outputs": [],
   "source": [
    "data = fetch_LINEAR_geneva()\n",
    "# N.B. this is a 7-dimensional dataset\n",
    "ug = data['ug']\n",
    "gi = data['gi']\n",
    "logP = data['logP']\n",
    "A = data['amp']\n",
    "# will need for GMM clustering analysis\n",
    "X = np.vstack([data['gi'], data['logP'], data['ug'], data['amp']]).T"
   ]
  },
  {
   "cell_type": "code",
   "execution_count": null,
   "metadata": {},
   "outputs": [],
   "source": []
  },
  {
   "cell_type": "markdown",
   "metadata": {},
   "source": [
    "\n"
   ]
  },
  {
   "cell_type": "markdown",
   "metadata": {},
   "source": []
  }
 ],
 "metadata": {
  "kernelspec": {
   "display_name": "Python 3",
   "language": "python",
   "name": "python3"
  },
  "language_info": {
   "codemirror_mode": {
    "name": "ipython",
    "version": 3
   },
   "file_extension": ".py",
   "mimetype": "text/x-python",
   "name": "python",
   "nbconvert_exporter": "python",
   "pygments_lexer": "ipython3",
   "version": "3.6.6"
  }
 },
 "nbformat": 4,
 "nbformat_minor": 2
}
